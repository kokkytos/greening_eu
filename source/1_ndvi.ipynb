{
 "cells": [
  {
   "cell_type": "markdown",
   "metadata": {},
   "source": [
    "# Processing Landsat5/8 timeseries Images for 2000-2020 "
   ]
  },
  {
   "cell_type": "markdown",
   "metadata": {},
   "source": [
    "### LandSat 5\n",
    "https://developers.google.com/earth-engine/datasets/catalog/LANDSAT_LT05_C02_T1_L2\n",
    "\n",
    "SR_B4 (near infrared), SR_B3 (red)\n",
    "\n",
    "### LandSat 8\n",
    "https://developers.google.com/earth-engine/datasets/catalog/LANDSAT_LC08_C02_T1_TOA#bands\n",
    "\n",
    "SR_B5 (Near infrared), SR_B4 (Red)"
   ]
  },
  {
   "cell_type": "code",
   "execution_count": 1,
   "metadata": {},
   "outputs": [],
   "source": [
    "import ee\n",
    "import geemap\n",
    "import geopandas as gpd\n",
    "import pandas as pd\n",
    "import datetime\n",
    "from datetime import datetime\n",
    "import configparser\n",
    "import os\n",
    "\n",
    "from time import sleep\n",
    "from pathlib import Path\n",
    "\n",
    "\n",
    "ee.Authenticate()\n",
    "ee.Initialize()\n"
   ]
  },
  {
   "cell_type": "markdown",
   "metadata": {},
   "source": [
    "# Read settings"
   ]
  },
  {
   "cell_type": "code",
   "execution_count": 2,
   "metadata": {},
   "outputs": [
    {
     "data": {
      "text/html": [
       "\n",
       "            <style>\n",
       "                .geemap-dark {\n",
       "                    --jp-widgets-color: white;\n",
       "                    --jp-widgets-label-color: white;\n",
       "                    --jp-ui-font-color1: white;\n",
       "                    --jp-layout-color2: #454545;\n",
       "                    background-color: #383838;\n",
       "                }\n",
       "\n",
       "                .geemap-dark .jupyter-button {\n",
       "                    --jp-layout-color3: #383838;\n",
       "                }\n",
       "\n",
       "                .geemap-colab {\n",
       "                    background-color: var(--colab-primary-surface-color, white);\n",
       "                }\n",
       "\n",
       "                .geemap-colab .jupyter-button {\n",
       "                    --jp-layout-color3: var(--colab-primary-surface-color, white);\n",
       "                }\n",
       "            </style>\n",
       "            "
      ],
      "text/plain": [
       "<IPython.core.display.HTML object>"
      ]
     },
     "metadata": {},
     "output_type": "display_data"
    }
   ],
   "source": [
    "config = configparser.ConfigParser()\n",
    "config.read(\"config.ini\")\n",
    "\n",
    "# GEE products\n",
    "cfg_ls5_product = config[\"gee\"][\"landsat5\"]\n",
    "cfg_ls8_product = config[\"gee\"][\"landsat8\"]\n",
    "cfg_nuts = config[\"gee\"][\"NUTS\"]\n",
    "cfg_NDVI_LS_mean_ts_ASSET = config[\"gee\"][\"NDVI_LS_mean_ts_ASSET\"] # Landsat full timeseries \n",
    "cfg_NDVI_LS_mean_composite_ASSET = config[\"gee\"][\"NDVI_LS_mean_composite_ASSET\"]  # Landsat composite\n",
    "cfg_NDVI_LS_EL_mean_percentiles_2_95_mean_CSV = config[\"gee\"][\"NDVI_LS_mean_percentiles_2_95_mean_CSV\"] # Csv file to save percentiles per NUTS\n",
    "cfg_GDRIVE_EXPORT_DIRECTORY = config[\"gee\"][\"GDRIVE_EXPORT_DIRECTORY\"] # Directory in GEE to export results\n",
    "cfg_FUA = config[\"gee\"][\"FUA\"]\n",
    "cfg_gee_assets=config[\"gee\"][\"gee_assets\"]\n",
    "\n",
    "# Dates\n",
    "cfg_ls5_startDate =config[\"dates\"][\"ls5_startDate\"]\n",
    "cfg_ls5_endDate = config[\"dates\"][\"ls5_endDate\"]\n",
    "\n",
    "cfg_ls8_startDate = config[\"dates\"][\"ls8_startDate\"]\n",
    "cfg_ls8_endDate = config[\"dates\"][\"ls8_endDate\"]\n",
    "\n",
    "\n",
    "# Settings\n",
    "\n",
    "cfg_OUTPUT_DIR =  config[\"settings\"][\"OUTPUT_DIR\"] # Directory in local machine\n",
    "cfg_TILES =  int(config[\"settings\"][\"TILES\"])\n",
    "\n",
    "cfg_NUTS_FILTER_COLUMN = config[\"settings\"][\"NUTS_FILTER_COLUMN\"]\n",
    "cfg_NUTS_CNTR_CODE = config[\"settings\"][\"NUTS_CNTR_CODE\"] \n",
    "\n",
    "cfg_SUN_ELEVATION = int(config[\"settings\"][\"SUN_ELEVATION\"])\n",
    "\n",
    "\n",
    "OUTPUT_DIR = Path(os.getcwd() ).parent  / cfg_OUTPUT_DIR\n",
    "TILES=cfg_TILES\n",
    "\n",
    "\n"
   ]
  },
  {
   "cell_type": "markdown",
   "metadata": {},
   "source": [
    "# Load Image collections"
   ]
  },
  {
   "cell_type": "code",
   "execution_count": 3,
   "metadata": {},
   "outputs": [
    {
     "data": {
      "text/html": [
       "\n",
       "            <style>\n",
       "                .geemap-dark {\n",
       "                    --jp-widgets-color: white;\n",
       "                    --jp-widgets-label-color: white;\n",
       "                    --jp-ui-font-color1: white;\n",
       "                    --jp-layout-color2: #454545;\n",
       "                    background-color: #383838;\n",
       "                }\n",
       "\n",
       "                .geemap-dark .jupyter-button {\n",
       "                    --jp-layout-color3: #383838;\n",
       "                }\n",
       "\n",
       "                .geemap-colab {\n",
       "                    background-color: var(--colab-primary-surface-color, white);\n",
       "                }\n",
       "\n",
       "                .geemap-colab .jupyter-button {\n",
       "                    --jp-layout-color3: var(--colab-primary-surface-color, white);\n",
       "                }\n",
       "            </style>\n",
       "            "
      ],
      "text/plain": [
       "<IPython.core.display.HTML object>"
      ]
     },
     "metadata": {},
     "output_type": "display_data"
    }
   ],
   "source": [
    "\n",
    "DATES_LS5=(cfg_ls5_startDate, cfg_ls5_endDate)\n",
    "DATES_LS8=(cfg_ls8_startDate,cfg_ls8_endDate)\n",
    "\n",
    "\n",
    "ls5 = ee.ImageCollection(cfg_ls5_product)\n",
    "ls8 = ee.ImageCollection(cfg_ls8_product)\n"
   ]
  },
  {
   "cell_type": "markdown",
   "metadata": {},
   "source": [
    "# Read  and filter NUTS\n"
   ]
  },
  {
   "cell_type": "code",
   "execution_count": null,
   "metadata": {},
   "outputs": [
    {
     "data": {
      "text/html": [
       "\n",
       "            <style>\n",
       "                .geemap-dark {\n",
       "                    --jp-widgets-color: white;\n",
       "                    --jp-widgets-label-color: white;\n",
       "                    --jp-ui-font-color1: white;\n",
       "                    --jp-layout-color2: #454545;\n",
       "                    background-color: #383838;\n",
       "                }\n",
       "\n",
       "                .geemap-dark .jupyter-button {\n",
       "                    --jp-layout-color3: #383838;\n",
       "                }\n",
       "\n",
       "                .geemap-colab {\n",
       "                    background-color: var(--colab-primary-surface-color, white);\n",
       "                }\n",
       "\n",
       "                .geemap-colab .jupyter-button {\n",
       "                    --jp-layout-color3: var(--colab-primary-surface-color, white);\n",
       "                }\n",
       "            </style>\n",
       "            "
      ],
      "text/plain": [
       "<IPython.core.display.HTML object>"
      ]
     },
     "metadata": {},
     "output_type": "display_data"
    }
   ],
   "source": [
    "# Read NUTS\n",
    "nuts = ee.FeatureCollection(cfg_nuts)\n",
    "\n",
    "\n",
    "#Read FUA\n",
    "fua = ee.FeatureCollection(cfg_FUA)\n",
    "\n",
    "\n",
    "\n",
    "fua_bb = fua.geometry().bounds()\n",
    "\n",
    "# Create a bounding box from min/max coordinates\n",
    "\n",
    "nuts = nuts.filterBounds(fua_bb)\n"
   ]
  },
  {
   "cell_type": "markdown",
   "metadata": {},
   "source": [
    "# Process Landsat 5"
   ]
  },
  {
   "cell_type": "code",
   "execution_count": 9,
   "metadata": {},
   "outputs": [
    {
     "data": {
      "text/html": [
       "\n",
       "            <style>\n",
       "                .geemap-dark {\n",
       "                    --jp-widgets-color: white;\n",
       "                    --jp-widgets-label-color: white;\n",
       "                    --jp-ui-font-color1: white;\n",
       "                    --jp-layout-color2: #454545;\n",
       "                    background-color: #383838;\n",
       "                }\n",
       "\n",
       "                .geemap-dark .jupyter-button {\n",
       "                    --jp-layout-color3: #383838;\n",
       "                }\n",
       "\n",
       "                .geemap-colab {\n",
       "                    background-color: var(--colab-primary-surface-color, white);\n",
       "                }\n",
       "\n",
       "                .geemap-colab .jupyter-button {\n",
       "                    --jp-layout-color3: var(--colab-primary-surface-color, white);\n",
       "                }\n",
       "            </style>\n",
       "            "
      ],
      "text/plain": [
       "<IPython.core.display.HTML object>"
      ]
     },
     "metadata": {},
     "output_type": "display_data"
    }
   ],
   "source": [
    "# Apply filters to the ImageCollection\n",
    "ls5 = (ls5 \n",
    "    .filterDate(*DATES_LS5) \n",
    "    .filterBounds(nuts.geometry().bounds()))\n",
    "\n",
    "    \n",
    "# Filter the ImageCollection to keep only images with SUN_ELEVATION > angle\n",
    "ls5 = ls5.filter(ee.Filter.gt('SUN_ELEVATION', cfg_SUN_ELEVATION))\n",
    "\n"
   ]
  },
  {
   "cell_type": "code",
   "execution_count": null,
   "metadata": {},
   "outputs": [
    {
     "data": {
      "text/html": [
       "\n",
       "            <style>\n",
       "                .geemap-dark {\n",
       "                    --jp-widgets-color: white;\n",
       "                    --jp-widgets-label-color: white;\n",
       "                    --jp-ui-font-color1: white;\n",
       "                    --jp-layout-color2: #454545;\n",
       "                    background-color: #383838;\n",
       "                }\n",
       "\n",
       "                .geemap-dark .jupyter-button {\n",
       "                    --jp-layout-color3: #383838;\n",
       "                }\n",
       "\n",
       "                .geemap-colab {\n",
       "                    background-color: var(--colab-primary-surface-color, white);\n",
       "                }\n",
       "\n",
       "                .geemap-colab .jupyter-button {\n",
       "                    --jp-layout-color3: var(--colab-primary-surface-color, white);\n",
       "                }\n",
       "            </style>\n",
       "            "
      ],
      "text/plain": [
       "<IPython.core.display.HTML object>"
      ]
     },
     "metadata": {},
     "output_type": "display_data"
    }
   ],
   "source": [
    "# Applies scaling factors to Landsat 5 imagery.\n",
    "\n",
    "def apply_scale_factorsL5(image):\n",
    "  optical_bands = image.select('SR_B.').multiply(0.0000275).add(-0.2)\n",
    "  thermal_bands = image.select('ST_B6').multiply(0.00341802).add(149.0)\n",
    "  return image.addBands(optical_bands, None, True).addBands(\n",
    "      thermal_bands, None, True\n",
    "  )\n",
    "\n",
    "  \n",
    "ls5 = ls5.map(apply_scale_factorsL5);\n",
    "\n",
    "\n",
    "def bitwiseExtract(input, fromBit, toBit):\n",
    "  maskSize = ee.Number(1).add(toBit).subtract(fromBit)\n",
    "  mask = ee.Number(1).leftShift(maskSize).subtract(1)\n",
    "  return input.rightShift(fromBit).bitwiseAnd(mask)\n",
    "\n",
    "\n",
    "def maskL5sr(image):\n",
    "  # Bits 3 and 5 are cloud shadow and cloud, respectively.\n",
    "  FillCloudBitMask = 1 << 0\n",
    "  DilatedCloudBitMask = 1 << 1\n",
    "  cloudsBitMask = 1 << 3\n",
    "  cloudShadowBitMask = 1 << 4\n",
    "  snowsBitMask = 1 << 5\n",
    "  WaterBitMask = 1 << 7\n",
    "  \n",
    "  # Get the pixel QA band.\n",
    "  qa = image.select('QA_PIXEL')\n",
    "\n",
    "  \n",
    "  mask =   (bitwiseExtract(qa, 8, 9).lte(1) # keep only low confidence or None (1 and 0)\n",
    "  .And(qa.bitwiseAnd(cloudsBitMask).eq(0)) \n",
    "  .And(qa.bitwiseAnd(cloudShadowBitMask).eq(0)) \n",
    "  .And(qa.bitwiseAnd(snowsBitMask).eq(0)) \n",
    "  .And(qa.bitwiseAnd(FillCloudBitMask).eq(0)) \n",
    "  .And(qa.bitwiseAnd(DilatedCloudBitMask).eq(0)) \n",
    "  .And(qa.bitwiseAnd(WaterBitMask).eq(0))) \n",
    "  \n",
    "  #  we don't want any channels saturated at all\n",
    "  # https://gis.stackexchange.com/questions/363929/how-to-apply-a-bitmask-for-radiometric-saturation-qa-in-a-image-collection-eart\n",
    "  saturationMask = image.select('QA_RADSAT').eq(0);\n",
    "  \n",
    "           \n",
    "  #Return the masked image\n",
    "  maskedimage = image.updateMask(mask).updateMask(saturationMask)\n",
    "\n",
    "  maskedimage = maskedimage.addBands(\n",
    "    ee.Image([qa.bitwiseAnd(WaterBitMask).eq(0).rename('Water')])\n",
    "    ).copyProperties(image).set('system:time_start', image.get('system:time_start'));\n",
    "    \n",
    "    \n",
    "  return (maskedimage)\n",
    "\n",
    "# Remove clouds, snow\n",
    "landsat5FiltMasked = ls5.map(maskL5sr)\n",
    "\n",
    "# Function to add NDVI, time, and constant variables to Landsat 8 imagery.\n",
    "def addVariables5(image):\n",
    "  #Return the image with the added bands.\n",
    "  return (image\n",
    "  # Add an NDVI band. And apply coefficient to intercalibrate with Landsat 8\n",
    "  .addBands(image.normalizedDifference(['SR_B4', 'SR_B3']).multiply(0.9723).add(0.0235).rename('NDVI'))\n",
    "  .addBands(image.normalizedDifference(['SR_B2', 'SR_B4']).rename('NDWI')))\n",
    "  \n",
    "  \n",
    "  \n",
    "imgP5 = landsat5FiltMasked.map(addVariables5)\n",
    "imgO5 = imgP5.select(['SR_B1', # blue\n",
    "                      'SR_B2', # green\n",
    "                      'SR_B3',# red\n",
    "                      'SR_B4', # IR\n",
    "                      'NDVI', \n",
    "                      'NDWI']).map(lambda x: x.rename(['SR_B2', 'SR_B3', 'SR_B4', 'SR_B5', 'NDVI', 'NDWI'])) # rename, identical to Landsat8\n",
    "\n",
    "\n",
    "####  set values for NDVI in range [0,1]\n",
    "def set_values(image):\n",
    "    ndvi = image.select(\"NDVI\")\n",
    "    ndvi_clamped = ndvi.expression(\"b(0) < 0 ? 0 : (b(0) > 1 ? 1 : b(0))\")\n",
    "    return image.addBands(ndvi_clamped,  overwrite=True)\n",
    "\n",
    "imgO5 = imgO5.map(lambda img: set_values(img))\n",
    "\n",
    "\n",
    "\n",
    "def func_apr5(year):\n",
    "    \"\"\"Calculate annual mean for Bands\"\"\"\n",
    "    date_start = ee.Date.fromYMD(year, 1, 1)\n",
    "    date_end = date_start.advance(1, \"year\")\n",
    "\n",
    "    image1 = (imgO5.filterDate(date_start, date_end) \n",
    "        .reduce(ee.Reducer.mean(), TILES) \n",
    "        .set({\"year\": year}) \n",
    "        .set({\"system:time_start\": date_start.millis(), \"system:time_end\": date_end.millis()}))\n",
    "\n",
    "    return(image1)\n",
    "\n",
    "\n",
    "# for each year return mean composite of bands\n",
    "annual_mean_NDVI5 = ee.ImageCollection.fromImages(\n",
    "    ee.List.sequence(\n",
    "        ee.Date(DATES_LS5[0]).get(\"year\").getInfo(),\n",
    "        ee.Date(DATES_LS5[1]).get(\"year\").getInfo() - 1,\n",
    "    ).map(func_apr5)\n",
    ")\n"
   ]
  },
  {
   "cell_type": "markdown",
   "metadata": {},
   "source": [
    "# LandSat5: 2002 mean composite image  "
   ]
  },
  {
   "cell_type": "code",
   "execution_count": 7,
   "metadata": {},
   "outputs": [
    {
     "data": {
      "text/html": [
       "\n",
       "            <style>\n",
       "                .geemap-dark {\n",
       "                    --jp-widgets-color: white;\n",
       "                    --jp-widgets-label-color: white;\n",
       "                    --jp-ui-font-color1: white;\n",
       "                    --jp-layout-color2: #454545;\n",
       "                    background-color: #383838;\n",
       "                }\n",
       "\n",
       "                .geemap-dark .jupyter-button {\n",
       "                    --jp-layout-color3: #383838;\n",
       "                }\n",
       "\n",
       "                .geemap-colab {\n",
       "                    background-color: var(--colab-primary-surface-color, white);\n",
       "                }\n",
       "\n",
       "                .geemap-colab .jupyter-button {\n",
       "                    --jp-layout-color3: var(--colab-primary-surface-color, white);\n",
       "                }\n",
       "            </style>\n",
       "            "
      ],
      "text/plain": [
       "<IPython.core.display.HTML object>"
      ]
     },
     "metadata": {},
     "output_type": "display_data"
    },
    {
     "data": {
      "application/vnd.jupyter.widget-view+json": {
       "model_id": "68833a63cea34cc0b60ed91a6442ddf6",
       "version_major": 2,
       "version_minor": 0
      },
      "text/plain": [
       "Map(center=[51.94, 16.35], controls=(WidgetControl(options=['position', 'transparent_bg'], widget=SearchDataGU…"
      ]
     },
     "execution_count": 7,
     "metadata": {},
     "output_type": "execute_result"
    }
   ],
   "source": [
    "\n",
    "\n",
    "# Get the 2002 image from the annual_mean_NDVI5 collection\n",
    "mapYear=2002\n",
    "first_image = annual_mean_NDVI5.filter(ee.Filter.eq(\"year\", mapYear)).first()\n",
    "\n",
    "# Define visualization parameters\n",
    "vis_params = {\n",
    "    \"bands\": [\"NDVI_mean\"],  # Change bands if needed\n",
    "    \"min\": -1,\n",
    "    \"max\": 1, \n",
    "    \"palette\": [\"red\", \"yellow\", \"green\"]\n",
    "}\n",
    "\n",
    "# Create a map\n",
    "Map = geemap.Map(center=[51.94, 16.35], zoom=5)  # Adjust center and zoom as needed\n",
    "\n",
    "# Add the first image to the map\n",
    "Map.addLayer(first_image, vis_params, f\"{mapYear} mean_NDVI5 Image\")\n",
    "\n",
    "Map.addLayer(nuts, {'color': 'green'}, \"NUTS2\", shown=False)\n",
    "Map.addLayer(nuts.geometry().bounds(), {'fillcolor':'rgba(0, 0, 255, 0)'}, \"NUTS2 bounds\", shown=False)\n",
    "Map"
   ]
  },
  {
   "cell_type": "code",
   "execution_count": null,
   "metadata": {},
   "outputs": [],
   "source": [
    "# Export the image of year X\n",
    "geemap.ee_export_image(\n",
    "    first_image.select('NDVI_mean'),\n",
    "    filename=f'/home/leonidas/PARA/1_Projects/Greening_EU_V2/output/NDVI_{mapYear}.tif',\n",
    "    scale=100,\n",
    "    crs='EPSG:3035',\n",
    "    region=nuts,\n",
    "    file_per_band=False\n",
    ")"
   ]
  },
  {
   "cell_type": "code",
   "execution_count": null,
   "metadata": {},
   "outputs": [
    {
     "data": {
      "text/html": [
       "\n",
       "            <style>\n",
       "                .geemap-dark {\n",
       "                    --jp-widgets-color: white;\n",
       "                    --jp-widgets-label-color: white;\n",
       "                    --jp-ui-font-color1: white;\n",
       "                    --jp-layout-color2: #454545;\n",
       "                    background-color: #383838;\n",
       "                }\n",
       "\n",
       "                .geemap-dark .jupyter-button {\n",
       "                    --jp-layout-color3: #383838;\n",
       "                }\n",
       "\n",
       "                .geemap-colab {\n",
       "                    background-color: var(--colab-primary-surface-color, white);\n",
       "                }\n",
       "\n",
       "                .geemap-colab .jupyter-button {\n",
       "                    --jp-layout-color3: var(--colab-primary-surface-color, white);\n",
       "                }\n",
       "            </style>\n",
       "            "
      ],
      "text/plain": [
       "<IPython.core.display.HTML object>"
      ]
     },
     "metadata": {},
     "output_type": "display_data"
    }
   ],
   "source": [
    "# Export the image of year X to Google Drive\n",
    "geemap.ee_export_image_to_drive(\n",
    "    image=first_image.select('NDVI_mean'),\n",
    "    description=f'NDVI_{mapYear}.tif',\n",
    "    folder='EXPORT_GEE',     # Google Drive folder name\n",
    "    fileNamePrefix=f'NDVI_{mapYear}',    # Output filename\n",
    "    scale=100,\n",
    "    crs='EPSG:3035',\n",
    "    region=nuts.geometry().bounds(),\n",
    "    fileFormat='GeoTIFF',\n",
    "    maxPixels=1e13\n",
    ")\n"
   ]
  },
  {
   "cell_type": "markdown",
   "metadata": {},
   "source": [
    "# Process LandSat 8\n"
   ]
  },
  {
   "cell_type": "code",
   "execution_count": null,
   "metadata": {},
   "outputs": [
    {
     "data": {
      "text/html": [
       "\n",
       "            <style>\n",
       "                .geemap-dark {\n",
       "                    --jp-widgets-color: white;\n",
       "                    --jp-widgets-label-color: white;\n",
       "                    --jp-ui-font-color1: white;\n",
       "                    --jp-layout-color2: #454545;\n",
       "                    background-color: #383838;\n",
       "                }\n",
       "\n",
       "                .geemap-dark .jupyter-button {\n",
       "                    --jp-layout-color3: #383838;\n",
       "                }\n",
       "\n",
       "                .geemap-colab {\n",
       "                    background-color: var(--colab-primary-surface-color, white);\n",
       "                }\n",
       "\n",
       "                .geemap-colab .jupyter-button {\n",
       "                    --jp-layout-color3: var(--colab-primary-surface-color, white);\n",
       "                }\n",
       "            </style>\n",
       "            "
      ],
      "text/plain": [
       "<IPython.core.display.HTML object>"
      ]
     },
     "metadata": {},
     "output_type": "display_data"
    }
   ],
   "source": [
    "ls8 = (ls8\n",
    "    .filterDate(*DATES_LS8) \n",
    "    .filterBounds(nuts.geometry().bounds()))\n",
    "\n",
    "\n",
    "\n",
    "# Filter the LandSat8 ImageCollection to keep only images with SUN_ELEVATION > 35\n",
    "ls8 = ls8.filter(ee.Filter.gt('SUN_ELEVATION', cfg_SUN_ELEVATION))"
   ]
  },
  {
   "cell_type": "code",
   "execution_count": 9,
   "metadata": {},
   "outputs": [
    {
     "data": {
      "text/html": [
       "\n",
       "            <style>\n",
       "                .geemap-dark {\n",
       "                    --jp-widgets-color: white;\n",
       "                    --jp-widgets-label-color: white;\n",
       "                    --jp-ui-font-color1: white;\n",
       "                    --jp-layout-color2: #454545;\n",
       "                    background-color: #383838;\n",
       "                }\n",
       "\n",
       "                .geemap-dark .jupyter-button {\n",
       "                    --jp-layout-color3: #383838;\n",
       "                }\n",
       "\n",
       "                .geemap-colab {\n",
       "                    background-color: var(--colab-primary-surface-color, white);\n",
       "                }\n",
       "\n",
       "                .geemap-colab .jupyter-button {\n",
       "                    --jp-layout-color3: var(--colab-primary-surface-color, white);\n",
       "                }\n",
       "            </style>\n",
       "            "
      ],
      "text/plain": [
       "<IPython.core.display.HTML object>"
      ]
     },
     "metadata": {},
     "output_type": "display_data"
    }
   ],
   "source": [
    "# Applies scaling factors.\n",
    "def applyScaleFactors(image):\n",
    "  opticalBands = image.select('SR_B.').multiply(0.0000275).add(-0.2);\n",
    "  thermalBands = image.select('ST_B.*').multiply(0.00341802).add(149.0);\n",
    "  return (image.addBands(opticalBands, None, True)\n",
    "              .addBands(thermalBands, None, True))\n",
    "  \n",
    "ls8 = ls8.map(applyScaleFactors);"
   ]
  },
  {
   "cell_type": "code",
   "execution_count": 10,
   "metadata": {},
   "outputs": [
    {
     "data": {
      "text/html": [
       "\n",
       "            <style>\n",
       "                .geemap-dark {\n",
       "                    --jp-widgets-color: white;\n",
       "                    --jp-widgets-label-color: white;\n",
       "                    --jp-ui-font-color1: white;\n",
       "                    --jp-layout-color2: #454545;\n",
       "                    background-color: #383838;\n",
       "                }\n",
       "\n",
       "                .geemap-dark .jupyter-button {\n",
       "                    --jp-layout-color3: #383838;\n",
       "                }\n",
       "\n",
       "                .geemap-colab {\n",
       "                    background-color: var(--colab-primary-surface-color, white);\n",
       "                }\n",
       "\n",
       "                .geemap-colab .jupyter-button {\n",
       "                    --jp-layout-color3: var(--colab-primary-surface-color, white);\n",
       "                }\n",
       "            </style>\n",
       "            "
      ],
      "text/plain": [
       "<IPython.core.display.HTML object>"
      ]
     },
     "metadata": {},
     "output_type": "display_data"
    }
   ],
   "source": [
    "\n",
    "\n",
    "def maskL8sr(image):\n",
    "  # Bits 3 and 5 are cloud shadow and cloud, respectively.\n",
    "  FillCloudBitMask = 1 << 0\n",
    "  DilatedCloudBitMask = 1 << 1\n",
    "  cloudsBitMask = 1 << 3\n",
    "  cloudShadowBitMask = 1 << 4\n",
    "  snowsBitMask = 1 << 5\n",
    "  WaterBitMask = 1 << 7\n",
    "  \n",
    "  # Get the pixel QA band.\n",
    "  qa = image.select('QA_PIXEL')\n",
    "  # Both flags should be set to zero, indicating clear conditions.\n",
    "  mask = qa.bitwiseAnd(cloudShadowBitMask).eq(0) \\\n",
    "    .And(bitwiseExtract(qa, 8, 9).lte(1)) \\\n",
    "    .And(qa.bitwiseAnd(cloudsBitMask).eq(0)) \\\n",
    "    .And(qa.bitwiseAnd(snowsBitMask).eq(0)) \\\n",
    "    .And(qa.bitwiseAnd(FillCloudBitMask).eq(0)) \\\n",
    "    .And(qa.bitwiseAnd(DilatedCloudBitMask).eq(0)) \\\n",
    "    .And(qa.bitwiseAnd(WaterBitMask).eq(0))\n",
    "  \n",
    "  \n",
    "  #  we don't want any channels saturated at all\n",
    "  # https://gis.stackexchange.com/questions/363929/how-to-apply-a-bitmask-for-radiometric-saturation-qa-in-a-image-collection-eart\n",
    "  saturationMask = image.select('QA_RADSAT').eq(0);\n",
    "  \n",
    "           \n",
    "  #Return the masked image\n",
    "  maskedimage = image.updateMask(mask).updateMask(saturationMask)\n",
    "  maskedimage = maskedimage.addBands(\n",
    "    ee.Image([qa.bitwiseAnd(WaterBitMask).eq(0).rename('Water')])\n",
    "    ).copyProperties(image).set('system:time_start', image.get('system:time_start'));\n",
    "    \n",
    "    \n",
    "  return (maskedimage)\n",
    "\n",
    "\n",
    "# Remove clouds, snow\n",
    "landsat8FiltMasked = ls8.map(maskL8sr)\n"
   ]
  },
  {
   "cell_type": "code",
   "execution_count": 11,
   "metadata": {},
   "outputs": [
    {
     "data": {
      "text/html": [
       "\n",
       "            <style>\n",
       "                .geemap-dark {\n",
       "                    --jp-widgets-color: white;\n",
       "                    --jp-widgets-label-color: white;\n",
       "                    --jp-ui-font-color1: white;\n",
       "                    --jp-layout-color2: #454545;\n",
       "                    background-color: #383838;\n",
       "                }\n",
       "\n",
       "                .geemap-dark .jupyter-button {\n",
       "                    --jp-layout-color3: #383838;\n",
       "                }\n",
       "\n",
       "                .geemap-colab {\n",
       "                    background-color: var(--colab-primary-surface-color, white);\n",
       "                }\n",
       "\n",
       "                .geemap-colab .jupyter-button {\n",
       "                    --jp-layout-color3: var(--colab-primary-surface-color, white);\n",
       "                }\n",
       "            </style>\n",
       "            "
      ],
      "text/plain": [
       "<IPython.core.display.HTML object>"
      ]
     },
     "metadata": {},
     "output_type": "display_data"
    }
   ],
   "source": [
    "# Function to add NDVI, time, and constant variables to Landsat 8 imagery.\n",
    "def addVariables(image):\n",
    "  #Return the image with the added bands.\n",
    "  return(image\n",
    "         .addBands(image.normalizedDifference(['SR_B5', 'SR_B4']).rename('NDVI'))\n",
    "         .addBands(image.normalizedDifference(['SR_B3', 'SR_B5']).rename('NDWI')))\n",
    "  \n",
    "imgP = landsat8FiltMasked.map(addVariables)\n",
    "\n",
    "# Select appropriate bands\n",
    "imgO = imgP.select(['SR_B2', #blue\n",
    "                    'SR_B3',# green\n",
    "                    'SR_B4', # red\n",
    "                    'SR_B5', # IR\n",
    "                    'NDVI', \n",
    "                    'NDWI'])\n"
   ]
  },
  {
   "cell_type": "code",
   "execution_count": 12,
   "metadata": {},
   "outputs": [
    {
     "data": {
      "text/html": [
       "\n",
       "            <style>\n",
       "                .geemap-dark {\n",
       "                    --jp-widgets-color: white;\n",
       "                    --jp-widgets-label-color: white;\n",
       "                    --jp-ui-font-color1: white;\n",
       "                    --jp-layout-color2: #454545;\n",
       "                    background-color: #383838;\n",
       "                }\n",
       "\n",
       "                .geemap-dark .jupyter-button {\n",
       "                    --jp-layout-color3: #383838;\n",
       "                }\n",
       "\n",
       "                .geemap-colab {\n",
       "                    background-color: var(--colab-primary-surface-color, white);\n",
       "                }\n",
       "\n",
       "                .geemap-colab .jupyter-button {\n",
       "                    --jp-layout-color3: var(--colab-primary-surface-color, white);\n",
       "                }\n",
       "            </style>\n",
       "            "
      ],
      "text/plain": [
       "<IPython.core.display.HTML object>"
      ]
     },
     "metadata": {},
     "output_type": "display_data"
    }
   ],
   "source": [
    "\n",
    "####  set values for LS8 NDVI in range [0,1]\n",
    "\n",
    "imgO = imgO.map(lambda img: set_values(img))\n"
   ]
  },
  {
   "cell_type": "code",
   "execution_count": 13,
   "metadata": {},
   "outputs": [
    {
     "data": {
      "text/html": [
       "\n",
       "            <style>\n",
       "                .geemap-dark {\n",
       "                    --jp-widgets-color: white;\n",
       "                    --jp-widgets-label-color: white;\n",
       "                    --jp-ui-font-color1: white;\n",
       "                    --jp-layout-color2: #454545;\n",
       "                    background-color: #383838;\n",
       "                }\n",
       "\n",
       "                .geemap-dark .jupyter-button {\n",
       "                    --jp-layout-color3: #383838;\n",
       "                }\n",
       "\n",
       "                .geemap-colab {\n",
       "                    background-color: var(--colab-primary-surface-color, white);\n",
       "                }\n",
       "\n",
       "                .geemap-colab .jupyter-button {\n",
       "                    --jp-layout-color3: var(--colab-primary-surface-color, white);\n",
       "                }\n",
       "            </style>\n",
       "            "
      ],
      "text/plain": [
       "<IPython.core.display.HTML object>"
      ]
     },
     "metadata": {},
     "output_type": "display_data"
    }
   ],
   "source": [
    "def func_apr(year):\n",
    "    \"\"\"Calculate annual mean for Bands\"\"\"\n",
    "    date_start = ee.Date.fromYMD(year, 1, 1)\n",
    "    date_end = date_start.advance(1, \"year\")\n",
    "\n",
    "    image1 = (imgO.filterDate(date_start, date_end) \n",
    "        .reduce(ee.Reducer.mean(), TILES) \n",
    "        .set({\"year\": year}) \n",
    "        .set({\"system:time_start\": date_start.millis(), \"system:time_end\": date_end.millis()}))\n",
    "\n",
    "    return(image1)\n",
    "\n",
    "\n",
    "\n",
    "# for each year return mean composite of bands\n",
    "annual_mean_NDVI8 = ee.ImageCollection.fromImages(\n",
    "    ee.List.sequence(\n",
    "        ee.Date(DATES_LS8[0]).get(\"year\").getInfo(),\n",
    "        ee.Date(DATES_LS8[1]).get(\"year\").getInfo() - 1,\n",
    "    ).map(func_apr)\n",
    ")"
   ]
  },
  {
   "cell_type": "markdown",
   "metadata": {},
   "source": [
    "# Merge the two timeseries"
   ]
  },
  {
   "cell_type": "code",
   "execution_count": 14,
   "metadata": {},
   "outputs": [
    {
     "data": {
      "text/html": [
       "\n",
       "            <style>\n",
       "                .geemap-dark {\n",
       "                    --jp-widgets-color: white;\n",
       "                    --jp-widgets-label-color: white;\n",
       "                    --jp-ui-font-color1: white;\n",
       "                    --jp-layout-color2: #454545;\n",
       "                    background-color: #383838;\n",
       "                }\n",
       "\n",
       "                .geemap-dark .jupyter-button {\n",
       "                    --jp-layout-color3: #383838;\n",
       "                }\n",
       "\n",
       "                .geemap-colab {\n",
       "                    background-color: var(--colab-primary-surface-color, white);\n",
       "                }\n",
       "\n",
       "                .geemap-colab .jupyter-button {\n",
       "                    --jp-layout-color3: var(--colab-primary-surface-color, white);\n",
       "                }\n",
       "            </style>\n",
       "            "
      ],
      "text/plain": [
       "<IPython.core.display.HTML object>"
      ]
     },
     "metadata": {},
     "output_type": "display_data"
    }
   ],
   "source": [
    "annual_mean_NDVI = annual_mean_NDVI5.merge(annual_mean_NDVI8)"
   ]
  },
  {
   "cell_type": "markdown",
   "metadata": {},
   "source": [
    "# Generate a Water mask "
   ]
  },
  {
   "cell_type": "code",
   "execution_count": 15,
   "metadata": {},
   "outputs": [
    {
     "data": {
      "text/html": [
       "\n",
       "            <style>\n",
       "                .geemap-dark {\n",
       "                    --jp-widgets-color: white;\n",
       "                    --jp-widgets-label-color: white;\n",
       "                    --jp-ui-font-color1: white;\n",
       "                    --jp-layout-color2: #454545;\n",
       "                    background-color: #383838;\n",
       "                }\n",
       "\n",
       "                .geemap-dark .jupyter-button {\n",
       "                    --jp-layout-color3: #383838;\n",
       "                }\n",
       "\n",
       "                .geemap-colab {\n",
       "                    background-color: var(--colab-primary-surface-color, white);\n",
       "                }\n",
       "\n",
       "                .geemap-colab .jupyter-button {\n",
       "                    --jp-layout-color3: var(--colab-primary-surface-color, white);\n",
       "                }\n",
       "            </style>\n",
       "            "
      ],
      "text/plain": [
       "<IPython.core.display.HTML object>"
      ]
     },
     "metadata": {},
     "output_type": "display_data"
    }
   ],
   "source": [
    "# Merge Water bands from two timeseries as a new imagecollection\n",
    "water_col = landsat5FiltMasked.select(\"Water\").merge(landsat8FiltMasked.select(\"Water\"))\n",
    "\n",
    "# reduce based MODE function and get one all time image composite  with TRUE/FALSE for water\n",
    "water = water_col.select('Water').reduce(ee.Reducer.mode(),TILES)\n",
    "def func_gtr(image):\n",
    "  '''mask everything that is Water'''\n",
    "  return image.updateMask(water.select(\"Water_mode\").eq(1))\n",
    "\n",
    "# mask timeseries with all time composite WATER mask\n",
    "annual_mean_NDVI = annual_mean_NDVI.map(func_gtr)\n"
   ]
  },
  {
   "cell_type": "markdown",
   "metadata": {},
   "source": [
    "# Map for an image"
   ]
  },
  {
   "cell_type": "code",
   "execution_count": 16,
   "metadata": {},
   "outputs": [
    {
     "data": {
      "text/html": [
       "\n",
       "            <style>\n",
       "                .geemap-dark {\n",
       "                    --jp-widgets-color: white;\n",
       "                    --jp-widgets-label-color: white;\n",
       "                    --jp-ui-font-color1: white;\n",
       "                    --jp-layout-color2: #454545;\n",
       "                    background-color: #383838;\n",
       "                }\n",
       "\n",
       "                .geemap-dark .jupyter-button {\n",
       "                    --jp-layout-color3: #383838;\n",
       "                }\n",
       "\n",
       "                .geemap-colab {\n",
       "                    background-color: var(--colab-primary-surface-color, white);\n",
       "                }\n",
       "\n",
       "                .geemap-colab .jupyter-button {\n",
       "                    --jp-layout-color3: var(--colab-primary-surface-color, white);\n",
       "                }\n",
       "            </style>\n",
       "            "
      ],
      "text/plain": [
       "<IPython.core.display.HTML object>"
      ]
     },
     "metadata": {},
     "output_type": "display_data"
    },
    {
     "data": {
      "application/vnd.jupyter.widget-view+json": {
       "model_id": "76ec0389464a4166b2509fcad86b4c0e",
       "version_major": 2,
       "version_minor": 0
      },
      "text/plain": [
       "Map(center=[51.94, 16.35], controls=(WidgetControl(options=['position', 'transparent_bg'], widget=SearchDataGU…"
      ]
     },
     "execution_count": 16,
     "metadata": {},
     "output_type": "execute_result"
    }
   ],
   "source": [
    "# Get the first image from the Full timeseries imagecollection\n",
    "myyear = 2020\n",
    "myimage = annual_mean_NDVI.filter(ee.Filter.eq(\"year\", myyear)).first()\n",
    "\n",
    "# Define visualization parameters\n",
    "vis_params = {\n",
    "    \"bands\": [\"NDVI_mean\"],  # Change bands if needed\n",
    "    \"min\": -1,\n",
    "    \"max\": 1, \n",
    "    \"palette\": [\"red\", \"yellow\", \"green\"]\n",
    "}\n",
    "\n",
    "# Create a map\n",
    "Map = geemap.Map(center=[51.94, 16.35], zoom=5)  # Adjust center and zoom as needed\n",
    "\n",
    "# Add the first image to the map\n",
    "Map.addLayer(myimage, vis_params, f\"LandSat 8 ({myyear})\")\n",
    "Map"
   ]
  },
  {
   "cell_type": "code",
   "execution_count": null,
   "metadata": {},
   "outputs": [],
   "source": [
    "# Export the image of year X to Google Drive\n",
    "geemap.ee_export_image_to_drive(\n",
    "    image=first_image.select('NDVI_mean'),\n",
    "    description=f'NDVI_{myyear}.tif',\n",
    "    folder='EXPORT_GEE',     # Google Drive folder name\n",
    "    fileNamePrefix=f'NDVI_{myyear}',    # Output filename\n",
    "    scale=100,\n",
    "    crs='EPSG:3035',\n",
    "    region=nuts.geometry().bounds(),\n",
    "    fileFormat='GeoTIFF',\n",
    "    maxPixels=1e13\n",
    ")"
   ]
  },
  {
   "cell_type": "markdown",
   "metadata": {},
   "source": [
    "# Prepare to export timeseries imagecollection "
   ]
  },
  {
   "cell_type": "code",
   "execution_count": 17,
   "metadata": {},
   "outputs": [
    {
     "data": {
      "text/html": [
       "\n",
       "            <style>\n",
       "                .geemap-dark {\n",
       "                    --jp-widgets-color: white;\n",
       "                    --jp-widgets-label-color: white;\n",
       "                    --jp-ui-font-color1: white;\n",
       "                    --jp-layout-color2: #454545;\n",
       "                    background-color: #383838;\n",
       "                }\n",
       "\n",
       "                .geemap-dark .jupyter-button {\n",
       "                    --jp-layout-color3: #383838;\n",
       "                }\n",
       "\n",
       "                .geemap-colab {\n",
       "                    background-color: var(--colab-primary-surface-color, white);\n",
       "                }\n",
       "\n",
       "                .geemap-colab .jupyter-button {\n",
       "                    --jp-layout-color3: var(--colab-primary-surface-color, white);\n",
       "                }\n",
       "            </style>\n",
       "            "
      ],
      "text/plain": [
       "<IPython.core.display.HTML object>"
      ]
     },
     "metadata": {},
     "output_type": "display_data"
    }
   ],
   "source": [
    "# Select and rename 'NDVI_mean' band to NDVI_{year} band\n",
    "def rename_band(image):\n",
    "    year = ee.Number(image.get('year')).format('%d')  # Get the Year property\n",
    "    new_band_name = ee.String('NDVI_').cat(year)\n",
    "    \n",
    "    image = image.select(['NDVI_mean']).rename(new_band_name)\n",
    "    \n",
    "    return image\n",
    "\n",
    "NDVI_LS = annual_mean_NDVI.map(rename_band)\n",
    "\n",
    "# Convert imagecollection to Multiband Image \n",
    "NDVI_LS = NDVI_LS.toBands()\n",
    "\n",
    "\n",
    "# Get current band names\n",
    "band_names = NDVI_LS.bandNames()\n",
    "\n",
    "# Function to remove the prefix\n",
    "def remove_prefix(band_name):\n",
    "    return ee.String(band_name).split('_').slice(2).join('_')\n",
    "\n",
    "# Apply the function to all band names\n",
    "new_band_names = band_names.map(remove_prefix)\n",
    "\n",
    "# Rename the bands in the image\n",
    "NDVI_LS = NDVI_LS.rename(new_band_names)\n",
    "\n",
    "\n",
    "# convert to float32\n",
    "NDVI_LS = NDVI_LS.toFloat()\n"
   ]
  },
  {
   "cell_type": "markdown",
   "metadata": {},
   "source": [
    "# Mean composite of all annual mean images"
   ]
  },
  {
   "cell_type": "code",
   "execution_count": 18,
   "metadata": {},
   "outputs": [
    {
     "data": {
      "text/html": [
       "\n",
       "            <style>\n",
       "                .geemap-dark {\n",
       "                    --jp-widgets-color: white;\n",
       "                    --jp-widgets-label-color: white;\n",
       "                    --jp-ui-font-color1: white;\n",
       "                    --jp-layout-color2: #454545;\n",
       "                    background-color: #383838;\n",
       "                }\n",
       "\n",
       "                .geemap-dark .jupyter-button {\n",
       "                    --jp-layout-color3: #383838;\n",
       "                }\n",
       "\n",
       "                .geemap-colab {\n",
       "                    background-color: var(--colab-primary-surface-color, white);\n",
       "                }\n",
       "\n",
       "                .geemap-colab .jupyter-button {\n",
       "                    --jp-layout-color3: var(--colab-primary-surface-color, white);\n",
       "                }\n",
       "            </style>\n",
       "            "
      ],
      "text/plain": [
       "<IPython.core.display.HTML object>"
      ]
     },
     "metadata": {},
     "output_type": "display_data"
    }
   ],
   "source": [
    "# based on this image percentiles per NUTS will be calculated\n",
    "\n",
    "ndvi_mean_compo = NDVI_LS.reduce(ee.Reducer.mean())\n",
    "\n",
    "\n",
    "# remove negatives\n",
    "# Create a mask where the band values are greater than 0.\n",
    "mask = ndvi_mean_compo.select('mean').gt(0)\n",
    "\n",
    "# Update the image with the mask.\n",
    "ndvi_mean_compo = ndvi_mean_compo.updateMask(mask)\n"
   ]
  },
  {
   "cell_type": "markdown",
   "metadata": {},
   "source": [
    "# Export as Assets"
   ]
  },
  {
   "cell_type": "code",
   "execution_count": 20,
   "metadata": {},
   "outputs": [
    {
     "data": {
      "text/html": [
       "\n",
       "            <style>\n",
       "                .geemap-dark {\n",
       "                    --jp-widgets-color: white;\n",
       "                    --jp-widgets-label-color: white;\n",
       "                    --jp-ui-font-color1: white;\n",
       "                    --jp-layout-color2: #454545;\n",
       "                    background-color: #383838;\n",
       "                }\n",
       "\n",
       "                .geemap-dark .jupyter-button {\n",
       "                    --jp-layout-color3: #383838;\n",
       "                }\n",
       "\n",
       "                .geemap-colab {\n",
       "                    background-color: var(--colab-primary-surface-color, white);\n",
       "                }\n",
       "\n",
       "                .geemap-colab .jupyter-button {\n",
       "                    --jp-layout-color3: var(--colab-primary-surface-color, white);\n",
       "                }\n",
       "            </style>\n",
       "            "
      ],
      "text/plain": [
       "<IPython.core.display.HTML object>"
      ]
     },
     "metadata": {},
     "output_type": "display_data"
    }
   ],
   "source": [
    "# export NDVI_LS timeseries \n",
    "# Export as Asset\n",
    "assetId = cfg_NDVI_LS_mean_ts_ASSET\n",
    "geemap.ee_export_image_to_asset(\n",
    "    NDVI_LS, description=assetId, assetId=assetId, region=nuts.geometry(),\n",
    "    scale=100, \n",
    "    crs=\"EPSG:3035\",\n",
    "    maxPixels=1e13)"
   ]
  },
  {
   "cell_type": "markdown",
   "metadata": {},
   "source": [
    "## Export composite Mean as Asset\n",
    "\n",
    "First save it as Asset and the read it again in the next step (*NUTS percentiles and mean*). Else a memory issue occurs\n"
   ]
  },
  {
   "cell_type": "code",
   "execution_count": 21,
   "metadata": {},
   "outputs": [
    {
     "data": {
      "text/html": [
       "\n",
       "            <style>\n",
       "                .geemap-dark {\n",
       "                    --jp-widgets-color: white;\n",
       "                    --jp-widgets-label-color: white;\n",
       "                    --jp-ui-font-color1: white;\n",
       "                    --jp-layout-color2: #454545;\n",
       "                    background-color: #383838;\n",
       "                }\n",
       "\n",
       "                .geemap-dark .jupyter-button {\n",
       "                    --jp-layout-color3: #383838;\n",
       "                }\n",
       "\n",
       "                .geemap-colab {\n",
       "                    background-color: var(--colab-primary-surface-color, white);\n",
       "                }\n",
       "\n",
       "                .geemap-colab .jupyter-button {\n",
       "                    --jp-layout-color3: var(--colab-primary-surface-color, white);\n",
       "                }\n",
       "            </style>\n",
       "            "
      ],
      "text/plain": [
       "<IPython.core.display.HTML object>"
      ]
     },
     "metadata": {},
     "output_type": "display_data"
    }
   ],
   "source": [
    "\n",
    "assetId = cfg_NDVI_LS_mean_composite_ASSET\n",
    "geemap.ee_export_image_to_asset(\n",
    "    ndvi_mean_compo, \n",
    "    description=assetId, \n",
    "    assetId=assetId, \n",
    "    region=nuts.geometry(),\n",
    "    scale=100, \n",
    "    crs=\"EPSG:3035\",\n",
    "    maxPixels=1e13)"
   ]
  },
  {
   "cell_type": "markdown",
   "metadata": {},
   "source": [
    "# NUTS percentiles and mean\n",
    "\n",
    "❗ SOS: run the following *cfg_NDVI_LS_mean_composite_ASSET* when is done in GEE"
   ]
  },
  {
   "cell_type": "code",
   "execution_count": 24,
   "metadata": {},
   "outputs": [
    {
     "data": {
      "text/html": [
       "\n",
       "            <style>\n",
       "                .geemap-dark {\n",
       "                    --jp-widgets-color: white;\n",
       "                    --jp-widgets-label-color: white;\n",
       "                    --jp-ui-font-color1: white;\n",
       "                    --jp-layout-color2: #454545;\n",
       "                    background-color: #383838;\n",
       "                }\n",
       "\n",
       "                .geemap-dark .jupyter-button {\n",
       "                    --jp-layout-color3: #383838;\n",
       "                }\n",
       "\n",
       "                .geemap-colab {\n",
       "                    background-color: var(--colab-primary-surface-color, white);\n",
       "                }\n",
       "\n",
       "                .geemap-colab .jupyter-button {\n",
       "                    --jp-layout-color3: var(--colab-primary-surface-color, white);\n",
       "                }\n",
       "            </style>\n",
       "            "
      ],
      "text/plain": [
       "<IPython.core.display.HTML object>"
      ]
     },
     "metadata": {},
     "output_type": "display_data"
    }
   ],
   "source": [
    "ndvi_mean_compo = ee.Image(f\"{cfg_gee_assets}{cfg_NDVI_LS_mean_composite_ASSET}\")\n",
    "\n",
    "\n",
    "# use mean raster composite to calculate for each polygon the percentiles 2,95 and the mean\n",
    "\n",
    "# Define mean and percentile reducers\n",
    "mean_reducer = ee.Reducer.mean()\n",
    "percentile_reducer = ee.Reducer.percentile([2, 95])\n",
    "\n",
    "# Combine the reducers\n",
    "combined_reducer = mean_reducer.combine(percentile_reducer, sharedInputs=True)\n",
    "\n",
    "# apply reduceRegions\n",
    "percentiles_NDVI = ndvi_mean_compo.reduceRegions(\n",
    "    reducer = combined_reducer,\n",
    "    collection = nuts,\n",
    "    crs = \"EPSG:3035\",\n",
    "    scale = 100,\n",
    "    # bestEffort=True,\n",
    "    # maxPixels = 1e13,\n",
    "    tileScale = 16,\n",
    ")\n",
    "\n",
    "\n",
    "# export reduceRegions as a table for mean and percentiles per nuts \n",
    "task = ee.batch.Export.table.toDrive(\n",
    "    collection= percentiles_NDVI,# ee.FeatureCollection([ee.Feature(None, Max_NDVI)]),\n",
    "    folder = cfg_GDRIVE_EXPORT_DIRECTORY ,\n",
    "    description=cfg_NDVI_LS_EL_mean_percentiles_2_95_mean_CSV,\n",
    "    fileFormat='CSV',\n",
    "    selectors= ['LEVL_CODE', 'NAME_LATN', 'NUTS_ID', 'NUTS_NAME', 'p2','p95', 'mean']\n",
    ")\n",
    "task.start()\n"
   ]
  },
  {
   "cell_type": "markdown",
   "metadata": {},
   "source": [
    "# Export geotiffs to GDRIVE\n",
    "Export σαν geotiff στο GDrive, για Θεσσαλία (EL61) και Αττική (EL30), mean NDVI του 2020"
   ]
  },
  {
   "cell_type": "code",
   "execution_count": null,
   "metadata": {},
   "outputs": [
    {
     "data": {
      "text/html": [
       "\n",
       "            <style>\n",
       "                .geemap-dark {\n",
       "                    --jp-widgets-color: white;\n",
       "                    --jp-widgets-label-color: white;\n",
       "                    --jp-ui-font-color1: white;\n",
       "                    --jp-layout-color2: #454545;\n",
       "                    background-color: #383838;\n",
       "                }\n",
       "\n",
       "                .geemap-dark .jupyter-button {\n",
       "                    --jp-layout-color3: #383838;\n",
       "                }\n",
       "\n",
       "                .geemap-colab {\n",
       "                    background-color: var(--colab-primary-surface-color, white);\n",
       "                }\n",
       "\n",
       "                .geemap-colab .jupyter-button {\n",
       "                    --jp-layout-color3: var(--colab-primary-surface-color, white);\n",
       "                }\n",
       "            </style>\n",
       "            "
      ],
      "text/plain": [
       "<IPython.core.display.HTML object>"
      ]
     },
     "metadata": {},
     "output_type": "display_data"
    }
   ],
   "source": [
    "\n",
    "# It processes and exports masked images from an Earth Engine Image \n",
    "# using specific geographic regions defined by NUTS_IDs.\n",
    "myyear = 2020\n",
    "img = annual_mean_NDVI.filter(ee.Filter.eq(\"year\", myyear)).first().select('NDVI_mean')\n",
    "NUTS_IDS =[\"EL61\", \"EL30\"]\n",
    "\n",
    "for NUTSID in NUTS_IDS:\n",
    "    \n",
    "    feat = nuts.filter(ee.Filter.eq(\"NUTS_ID\", NUTSID))\n",
    "    # create a mask based on current feature\n",
    "    mask = ee.Image.constant(1).clip(feat)\n",
    "        \n",
    "    masked_img = img.updateMask(mask)\n",
    "\n",
    "    export_task = ee.batch.Export.image.toDrive(\n",
    "        image=masked_img,\n",
    "        description=f'NDVI_LS_mean_composite_{NUTSID}_{myyear}',\n",
    "        folder='EXPORT_GEE_NDVI_GEOTIFFS',  # Optional: Folder in Google Drive\n",
    "        region=feat.geometry(),  # ROI in geo-coordinates\n",
    "        scale=100,  # Scale in meters per pixel (adjust as needed)\n",
    "        crs='EPSG:3035',  # Optional: Specify coordinate reference system\n",
    "        maxPixels=1e13  # Maximum pixels (may need adjusting for large images)\n",
    "    )\n",
    "    export_task.start()"
   ]
  }
 ],
 "metadata": {
  "kernelspec": {
   "display_name": "gee",
   "language": "python",
   "name": "python3"
  },
  "language_info": {
   "codemirror_mode": {
    "name": "ipython",
    "version": 3
   },
   "file_extension": ".py",
   "mimetype": "text/x-python",
   "name": "python",
   "nbconvert_exporter": "python",
   "pygments_lexer": "ipython3",
   "version": "3.10.13"
  }
 },
 "nbformat": 4,
 "nbformat_minor": 2
}
